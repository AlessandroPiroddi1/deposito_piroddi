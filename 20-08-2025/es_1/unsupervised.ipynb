{
 "cells": [
  {
   "cell_type": "code",
   "execution_count": null,
   "id": "3902070b",
   "metadata": {},
   "outputs": [],
   "source": [
    "# Update the path below to the correct location of your CSV file\n",
    "df = pd.read_csv('', sep=';')\n",
    "df.head()\n"
   ]
  }
 ],
 "metadata": {
  "kernelspec": {
   "display_name": ".venv (3.13.3)",
   "language": "python",
   "name": "python3"
  },
  "language_info": {
   "name": "python",
   "version": "3.13.3"
  }
 },
 "nbformat": 4,
 "nbformat_minor": 5
}
