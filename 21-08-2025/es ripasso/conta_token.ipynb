{
 "cells": [
  {
   "cell_type": "markdown",
   "id": "f47ba0d7",
   "metadata": {},
   "source": [
    "Prendi un prompt e osservalo con un tokenizer. \n",
    "Conta i token, Guarda come le parole vengono suddivise, Verifica quante token produce un output generato"
   ]
  },
  {
   "cell_type": "code",
   "execution_count": 1,
   "id": "7761d487",
   "metadata": {},
   "outputs": [],
   "source": [
    "import tiktoken"
   ]
  },
  {
   "cell_type": "code",
   "execution_count": 2,
   "id": "2434cb1c",
   "metadata": {},
   "outputs": [
    {
     "name": "stdout",
     "output_type": "stream",
     "text": [
      "Testo: Ciao, come stai oggi?\n",
      "Numero di token: 8\n",
      "Suddivisione: ['C', 'iao', ',', ' come', ' st', 'ai', ' oggi', '?']\n"
     ]
    }
   ],
   "source": [
    "\n",
    "# scegliamo il tokenizer giusto, per GPT-4 e GPT-3.5 è 'cl100k_base'\n",
    "tokenizer = tiktoken.get_encoding(\"cl100k_base\")\n",
    "\n",
    "prompt = \"Ciao, come stai oggi?\"\n",
    "\n",
    "# ottieni la lista dei token\n",
    "tokens = tokenizer.encode(prompt)\n",
    "\n",
    "# lista solo con la suddivisione in stringhe\n",
    "suddivisione = [\n",
    "    tokenizer.decode_single_token_bytes(t).decode(\"utf-8\", errors=\"replace\")\n",
    "    for t in tokens\n",
    "]\n",
    "\n",
    "print(\"Testo:\", prompt)\n",
    "print(\"Numero di token:\", len(tokens))\n",
    "print(\"Suddivisione:\", suddivisione)\n"
   ]
  }
 ],
 "metadata": {
  "kernelspec": {
   "display_name": ".venv (3.13.3)",
   "language": "python",
   "name": "python3"
  },
  "language_info": {
   "codemirror_mode": {
    "name": "ipython",
    "version": 3
   },
   "file_extension": ".py",
   "mimetype": "text/x-python",
   "name": "python",
   "nbconvert_exporter": "python",
   "pygments_lexer": "ipython3",
   "version": "3.13.3"
  }
 },
 "nbformat": 4,
 "nbformat_minor": 5
}
